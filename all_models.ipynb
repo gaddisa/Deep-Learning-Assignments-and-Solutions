{
 "cells": [
  {
   "cell_type": "markdown",
   "metadata": {},
   "source": [
    "# Notebook Description: Model Comparison for Regression Techniques\n",
    "\n",
    "## Project Overview\n",
    "\n",
    "This notebook compares different regression techniques for predicting student performance based on demographic and academic factors. The goal is to evaluate the performance of various regression models and identify the most suitable one for the task.\n",
    "\n",
    "## Context\n",
    "\n",
    "The notebook begins by importing necessary libraries and modules for data manipulation, visualization, and model building. It includes modules for implementing different regression techniques such as linear regression, regularized linear regression, and Bayesian linear regression.\n",
    "\n",
    "## Data Preprocessing\n",
    "\n",
    "The dataset is loaded using pandas from a CSV file ('train.csv') containing student performance data. Preprocessing steps include partitioning the dataset into training and testing sets, as well as normalization using mean and standard deviation.\n",
    "\n",
    "## Model Comparison\n",
    "\n",
    "Four different regression techniques are compared:\n",
    "1. **Linear Regression (1b)**: Basic linear regression model without regularization.\n",
    "2. **Regularized Linear Regression (1c)**: Linear regression model with regularization (e.g., Lasso or Ridge) to prevent overfitting.\n",
    "3. **Regularized Biased Linear Regression (1d)**: Linear regression model with regularization and a bias term to account for bias in the data.\n",
    "4. **Bayesian Linear Regression (1e)**: Probabilistic approach to linear regression using Bayesian inference.\n",
    "\n",
    "For each technique, the notebook computes the Root Mean Squared Error (RMSE) and generates predictions (`yhat`) for the testing set. These predictions are then plotted against the ground truth values to visually compare the performance of each model.\n",
    "\n",
    "## Results Visualization\n",
    "\n",
    "A comparison plot (`plot_1f`) is generated to visualize the predictions of all models alongside the ground truth values. This plot provides insights into the performance of each regression technique and helps identify the best-performing model based on RMSE.\n",
    "\n",
    "## Coded by\n",
    "\n",
    "Gaddisa Olani (gaddisaolex@gmail.com)\n"
   ]
  },
  {
   "cell_type": "code",
   "execution_count": 4,
   "metadata": {},
   "outputs": [],
   "source": [
    "import pandas as pd\n",
    "from matplotlib import pyplot\n",
    "import numpy as np\n",
    "import LinearRegression_1b as one_b\n",
    "import RegularizedLinearRegression_1c as one_c\n",
    "import RegularizedBiasedLinearRegression_1d as one_d\n",
    "import BayesianLinearRegression_1e as one_e\n",
    "#do the normalization using mean and standard deviation \n",
    "\n",
    "from preprocessing import *\n",
    "#plot the comparison of all models  from 1b,1c,1d,1e\n",
    "def plot_1f(yhat_b,yhat_c,yhat_d,yhat_e):\n",
    "    x=np.arange(0,200)\n",
    "    pyplot.figure(figsize=(12,9))\n",
    "    pyplot.style.use('fivethirtyeight')\n",
    "    #pyplot.ylim(-50,50)\n",
    "    pyplot.plot(x, test_set_y,label='Ground Truth')\n",
    "    pyplot.plot(x, yhat_b, label='('+str(rmse_b.round(decimals=2))+') Linear Regression')\n",
    "    pyplot.plot(x, yhat_c,label='('+str(rmse_c.round(decimals=2))+') Linear Regression (with reg)')\n",
    "    pyplot.plot(x, yhat_d, label='('+str(rmse_d.round(decimals=2))+') Linear Regression (r/b)')\n",
    "    pyplot.plot(x, yhat_e, label='('+str(rmse_e.round(decimals=2))+') Bayesian Linear Regression (r/b)')\n",
    "\n",
    "    pyplot.xlabel('Sample Index')\n",
    "    pyplot.ylabel('Values')\n",
    "    pyplot.title('Comparison of Linear Regression Model answer to 1f')\n",
    "    pyplot.legend(loc=\"best\")\n"
   ]
  },
  {
   "cell_type": "code",
   "execution_count": null,
   "metadata": {},
   "outputs": [],
   "source": [
    "if __name__ == '__main__':\n",
    "    #partition it to 80% trainingset and 20%testset#total parameter=24\n",
    "    datasets = pd.read_csv('train.csv')\n",
    "    # Set seed so we get same random allocation on each run of code\n",
    "    #np.random.seed(7)\n",
    "    preprocessed=preprocessing(datasets)\n",
    "    train_set_x,train_set_y,test_set_x,test_set_y=train_test_split_preprocessed(preprocessed)\n",
    "    \n",
    "    #solution1: Normal Linear Regression (1b)\n",
    "    rmse_b,yhat_b=one_b.linear_regression_1b(train_set_x,train_set_y,test_set_x,test_set_y)\n",
    "\n",
    "    #solution2: Regularized Linear Regression (1c)\n",
    "    rmse_c,yhat_c=one_c.Regularized_LinearRegression_1c(train_set_x,train_set_y,test_set_x,test_set_y)\n",
    "    \n",
    "    #solution3: Regularized Linear Regression with bias term (1d)\n",
    "    rmse_d,yhat_d=one_d.Regularized_Biased_LinearRegression_1d(train_set_x,train_set_y,test_set_x,test_set_y)\n",
    "    \n",
    "    #solution4: Regularized Linear Regression with bias term (1e)\n",
    "    rmse_e,yhat_e=one_e.Bayesian_LinearRegression_1e(train_set_x,train_set_y,test_set_x,test_set_y)\n",
    "    #print(rmse_e)\n",
    "    \n",
    "    #plot the comparison 1f\n",
    "    plot_1f(yhat_b,yhat_c,yhat_d,yhat_e)"
   ]
  },
  {
   "cell_type": "code",
   "execution_count": null,
   "metadata": {},
   "outputs": [],
   "source": []
  }
 ],
 "metadata": {
  "kernelspec": {
   "display_name": "Python 3",
   "language": "python",
   "name": "python3"
  },
  "language_info": {
   "codemirror_mode": {
    "name": "ipython",
    "version": 3
   },
   "file_extension": ".py",
   "mimetype": "text/x-python",
   "name": "python",
   "nbconvert_exporter": "python",
   "pygments_lexer": "ipython3",
   "version": "3.6.12"
  }
 },
 "nbformat": 4,
 "nbformat_minor": 4
}
